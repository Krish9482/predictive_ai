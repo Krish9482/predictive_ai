{
 "cells": [
  {
   "cell_type": "code",
   "execution_count": null,
   "id": "8585ec69",
   "metadata": {},
   "outputs": [
    {
     "name": "stdout",
     "output_type": "stream",
     "text": [
      "Accuracy: 1.0\n",
      "Precision: 1.0\n",
      "Recall: 1.0\n",
      "F1 Score: 1.0\n"
     ]
    }
   ],
   "source": [
    "# Load Data\n",
    "from sklearn.datasets import load_iris\n",
    "import pandas as pd\n",
    "from sklearn.model_selection import train_test_split\n",
    "from sklearn.ensemble import RandomForestClassifier\n",
    "from sklearn.metrics import accuracy_score, precision_score, recall_score, f1_score\n",
    "\n",
    "\n",
    "iris_data = load_iris()\n",
    "\n",
    "\n",
    "df = pd.DataFrame(data=iris_data.data, columns=iris_data.feature_names)\n",
    "df['target'] = iris_data.target\n",
    "\n",
    "\n",
    "X = df.drop(columns='target')\n",
    "y = df['target']\n",
    "\n",
    "\n",
    "X_train, X_test, y_train, y_test = train_test_split(X, y, test_size=0.2, random_state=42)\n",
    "\n",
    "\n",
    "model = RandomForestClassifier(n_estimators=100, random_state=42)\n",
    "model.fit(X_train, y_train)\n",
    "\n",
    "y_predicted = model.predict(X_test)\n",
    "\n",
    "\n",
    "model_accuracy_score = accuracy_score(y_test, y_predicted)\n",
    "model_precision_score = precision_score(y_test, y_predicted, average='macro')\n",
    "model_recall_score = recall_score(y_test, y_predicted, average='macro')\n",
    "model_f1_score = f1_score(y_test, y_predicted, average='macro')\n",
    "\n",
    "# outputss\n",
    "print(\"Accuracy:\", model_accuracy_score)\n",
    "print(\"Precision:\", model_precision_score)\n",
    "print(\"Recall:\", model_recall_score)\n",
    "print(\"F1 Score:\", model_f1_score)\n",
    "\n",
    "#update"
   ]
  }
 ],
 "metadata": {
  "kernelspec": {
   "display_name": "base",
   "language": "python",
   "name": "python3"
  },
  "language_info": {
   "codemirror_mode": {
    "name": "ipython",
    "version": 3
   },
   "file_extension": ".py",
   "mimetype": "text/x-python",
   "name": "python",
   "nbconvert_exporter": "python",
   "pygments_lexer": "ipython3",
   "version": "3.13.5"
  }
 },
 "nbformat": 4,
 "nbformat_minor": 5
}
